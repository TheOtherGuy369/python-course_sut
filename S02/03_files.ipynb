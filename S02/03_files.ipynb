{
 "cells": [
  {
   "attachments": {},
   "cell_type": "markdown",
   "metadata": {},
   "source": [
    "## کار با فایل ها"
   ]
  },
  {
   "cell_type": "code",
   "execution_count": 12,
   "metadata": {},
   "outputs": [],
   "source": [
    "# with open('myfile.txt', 'a') as f:\n",
    "#     lang = \"Python\"\n",
    "#     f.write(lang)\n",
    "#     f.write(\"\\n\")"
   ]
  },
  {
   "attachments": {},
   "cell_type": "markdown",
   "metadata": {},
   "source": [
    "برای اینکه بیشتر با فایل ها کار کنین میتونین به این لینک مراجعه کنین که مثال های خوبی هم داره\n",
    "\n",
    "https://www.geeksforgeeks.org/reading-writing-text-files-python/\n",
    "\n",
    "---\n",
    "\n",
    "برای اینکه حرفه ای بشین با فایل ها این دیاگرام رو هم یه نگاه بندازین\n",
    "\n",
    "![files](images/files.png)"
   ]
  }
 ],
 "metadata": {
  "kernelspec": {
   "display_name": "Python 3",
   "language": "python",
   "name": "python3"
  },
  "language_info": {
   "codemirror_mode": {
    "name": "ipython",
    "version": 3
   },
   "file_extension": ".py",
   "mimetype": "text/x-python",
   "name": "python",
   "nbconvert_exporter": "python",
   "pygments_lexer": "ipython3",
   "version": "3.11.0rc2"
  },
  "orig_nbformat": 4,
  "vscode": {
   "interpreter": {
    "hash": "ead1b95f633dc9c51826328e1846203f51a198c6fb5f2884a80417ba131d4e82"
   }
  }
 },
 "nbformat": 4,
 "nbformat_minor": 2
}
