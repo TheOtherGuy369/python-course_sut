{
 "cells": [
  {
   "attachments": {},
   "cell_type": "markdown",
   "metadata": {},
   "source": [
    "## کار با فایل ها\n",
    "\n",
    "برای اینکه یه فایل رو باز کنیم از دستور\n",
    "\n",
    "`with` به همراه\n",
    "\n",
    "دستور `open`\n",
    "\n",
    "استفاده میکنیم.\n",
    "\n",
    "```python\n",
    "\n",
    "    with open('مسیر فایل', 'mode') as <یه نام بدین اینجا>:\n",
    "        # ادامه دستورات تون\n",
    "```\n",
    "\n",
    "---\n",
    "\n",
    "توی `open`\n",
    "\n",
    "ورودی اول مسیر فایل مون هست که میخوایم بخونیمش یا میخوایم یه چیزی بهش اضافه کنیم و ورودی دوم\n",
    "\n",
    "مودش هست\n",
    "\n",
    "--- \n",
    "\n",
    "**مود چیه؟**\n",
    "\n",
    "> اگه بخواین یه فایل رو بخونین و چیزی داخلش ننویسین مود رو بذارین\n",
    ">\n",
    "> `r` که همون مخفف `read` هست. \n",
    "> \n",
    "> در این صورت نمیتونین چیزی توی فایل بنویسین!\n",
    "\n",
    "\n",
    "\n",
    "> اگه بخواین توی فایل بنویسین از مود \n",
    "> \n",
    "> `w` که همون `write` هست\n",
    ">\n",
    "> استفاده کنین\n",
    "\n",
    "\n",
    "> اگه بخواین به انتهای فایل یه چیزی اضافه کنین از مود\n",
    "> \n",
    "> `a` که همون `append` هست\n",
    "> \n",
    "> استفاده کنین"
   ]
  },
  {
   "cell_type": "code",
   "execution_count": 16,
   "metadata": {},
   "outputs": [],
   "source": [
    "with open('/home/saeed/Documents/projects/github.com/hasanisaeed/python-course/S02/myFile.txt', 'w') as f:\n",
    "    f.write(\"سلام\")"
   ]
  },
  {
   "cell_type": "code",
   "execution_count": 14,
   "metadata": {},
   "outputs": [
    {
     "name": "stdout",
     "output_type": "stream",
     "text": [
      ">> Python>> Python>> Matlab>> Matlab\n",
      ">> Matlab\n",
      ">> Matlab\n",
      ">> Matlab\n",
      ">> Matlab\n",
      ">> Matlab\n",
      ">> Matlab\n",
      ">> Matlab\n",
      ">> Done!\n"
     ]
    }
   ],
   "source": [
    "with open('/home/saeed/Documents/projects/github.com/hasanisaeed/python-course/S02/myFile.txt', 'r') as f:\n",
    "    content = f.read()\n",
    "    print(content)"
   ]
  },
  {
   "attachments": {},
   "cell_type": "markdown",
   "metadata": {},
   "source": [
    "برای اینکه بیشتر با فایل ها کار کنین میتونین به این لینک مراجعه کنین که مثال های خوبی هم داره\n",
    "\n",
    "https://www.geeksforgeeks.org/reading-writing-text-files-python/\n",
    "\n",
    "---\n",
    "\n",
    "برای اینکه حرفه ای بشین با فایل ها این دیاگرام رو هم یه نگاه بندازین\n",
    "\n",
    "![files](images/files.png)"
   ]
  }
 ],
 "metadata": {
  "kernelspec": {
   "display_name": "Python 3",
   "language": "python",
   "name": "python3"
  },
  "language_info": {
   "codemirror_mode": {
    "name": "ipython",
    "version": 3
   },
   "file_extension": ".py",
   "mimetype": "text/x-python",
   "name": "python",
   "nbconvert_exporter": "python",
   "pygments_lexer": "ipython3",
   "version": "3.11.0"
  },
  "orig_nbformat": 4,
  "vscode": {
   "interpreter": {
    "hash": "ead1b95f633dc9c51826328e1846203f51a198c6fb5f2884a80417ba131d4e82"
   }
  }
 },
 "nbformat": 4,
 "nbformat_minor": 2
}
