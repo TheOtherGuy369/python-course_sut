{
 "cells": [
  {
   "attachments": {},
   "cell_type": "markdown",
   "metadata": {},
   "source": [
    "## Loops"
   ]
  },
  {
   "attachments": {},
   "cell_type": "markdown",
   "metadata": {},
   "source": [
    "### مفهوم Iterator\n",
    "\n",
    "هر آبحکتی که بتوانیم روی آن پیمایش کنیم یک \n",
    "\n",
    "‍`iterator`\n",
    "\n",
    "هست\n",
    "\n",
    "---\n",
    "\n",
    "\n",
    "مثلا آرایه ها\n",
    "\n",
    "`iterator`\n",
    "\n",
    "هستن چون به راحتی میتوانی آیتم های اون رو مثلا با حلقه ها پیمایش کنیم."
   ]
  },
  {
   "attachments": {},
   "cell_type": "markdown",
   "metadata": {},
   "source": [
    "### `while` loop"
   ]
  },
  {
   "attachments": {},
   "cell_type": "markdown",
   "metadata": {},
   "source": [
    "### `for` loop"
   ]
  }
 ],
 "metadata": {
  "kernelspec": {
   "display_name": "Python 3",
   "language": "python",
   "name": "python3"
  },
  "language_info": {
   "name": "python",
   "version": "3.11.0"
  },
  "orig_nbformat": 4,
  "vscode": {
   "interpreter": {
    "hash": "ead1b95f633dc9c51826328e1846203f51a198c6fb5f2884a80417ba131d4e82"
   }
  }
 },
 "nbformat": 4,
 "nbformat_minor": 2
}
