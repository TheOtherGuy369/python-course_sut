{
 "cells": [
  {
   "attachments": {},
   "cell_type": "markdown",
   "metadata": {},
   "source": [
    "## Loops"
   ]
  },
  {
   "attachments": {},
   "cell_type": "markdown",
   "metadata": {},
   "source": [
    "### مفهوم Iterator\n",
    "\n",
    "هر آبحکتی که بتوانیم روی آن پیمایش کنیم یک \n",
    "\n",
    "‍`iterator`\n",
    "\n",
    "هست\n",
    "\n",
    "---\n",
    "\n",
    "\n",
    "مثلا آرایه ها\n",
    "\n",
    "`iterator`\n",
    "\n",
    "هستن چون به راحتی میتوانی آیتم های اون رو مثلا با حلقه ها پیمایش کنیم."
   ]
  },
  {
   "attachments": {},
   "cell_type": "markdown",
   "metadata": {},
   "source": [
    "### `while` loop"
   ]
  },
  {
   "cell_type": "code",
   "execution_count": 4,
   "metadata": {},
   "outputs": [
    {
     "name": "stdout",
     "output_type": "stream",
     "text": [
      "Length:  5\n",
      "index:  0  ->  1\n",
      "index:  1  ->  2\n",
      "index:  2  ->  3\n",
      "index:  3  ->  4\n",
      "index:  4  ->  5\n"
     ]
    }
   ],
   "source": [
    "numbers = [1, 2, 3, 4, 5]\n",
    "\n",
    "index = 0\n",
    "# print(\">> Sum: \", sum(numbers)) \n",
    "\n",
    "# len is a built-in function\n",
    "print(\"Length: \", len(numbers))\n",
    "\n",
    "while index < len(numbers):\n",
    "    print(\"index: \", index, ' -> ', numbers[index])\n",
    "    # index = index + 1 // پایتونیک نیست!\n",
    "    index += 1\n",
    "    "
   ]
  },
  {
   "attachments": {},
   "cell_type": "markdown",
   "metadata": {},
   "source": [
    "#### `break` command\n",
    "\n",
    "با استفاده از دستور \n",
    "\n",
    "`break`\n",
    "\n",
    "هر موقع که خواستیم از حلقه ها بیرون بیاییم\n",
    "\n",
    "----\n",
    "\n",
    "در مقابل \n",
    "\n",
    "`break`\n",
    "\n",
    "دستور \n",
    "\n",
    "`continue`\n",
    "\n",
    " هم داریم که میگه ادامه دستورات توی حلقه رو بیخیال شه و دوباره از اول حلقه اجرا بگیر"
   ]
  },
  {
   "cell_type": "code",
   "execution_count": 5,
   "metadata": {},
   "outputs": [
    {
     "name": "stdout",
     "output_type": "stream",
     "text": [
      "5\n",
      "index:  0  ->  1\n",
      "index:  1  ->  2\n",
      "index:  2  ->  3\n"
     ]
    }
   ],
   "source": [
    "numbers = [1, 2, 3, 4, 5]\n",
    "\n",
    "index = 0\n",
    "# print(\">> Sum: \", sum(numbers))\n",
    "print(len(numbers))\n",
    "\n",
    "while index < len(numbers):\n",
    "    print(\"index: \", index, ' -> ', numbers[index])\n",
    "    index += 1\n",
    "\n",
    "    # توی بلاک\n",
    "    # while\n",
    "    # اینجا شرط گذاشتیم که مثلا اگه به اندیس ۳ رسید بیاد از حلقه بیرون. خروجی رو ببینین \n",
    "    if index == 3:\n",
    "        break\n",
    "    "
   ]
  },
  {
   "attachments": {},
   "cell_type": "markdown",
   "metadata": {},
   "source": [
    "### `for` loop"
   ]
  },
  {
   "cell_type": "code",
   "execution_count": 10,
   "metadata": {},
   "outputs": [
    {
     "name": "stdout",
     "output_type": "stream",
     "text": [
      "1\n",
      "2\n",
      "3\n",
      "4\n",
      "5\n",
      "Python\n"
     ]
    }
   ],
   "source": [
    "numbers = [1, 2, 3, 4, 5, \"Python\"]\n",
    "\n",
    "# حلقه for\n",
    "# هر کدوم از آیتم ها رو بهمون برمیگردونه و اندیس نداریم\n",
    "for i in numbers:\n",
    "    print(i)"
   ]
  },
  {
   "cell_type": "code",
   "execution_count": 8,
   "metadata": {},
   "outputs": [
    {
     "name": "stdout",
     "output_type": "stream",
     "text": [
      "index:  0  ->  1\n",
      "index:  1  ->  2\n",
      "index:  2  ->  3\n",
      "index:  3  ->  4\n",
      "index:  4  ->  5\n"
     ]
    }
   ],
   "source": [
    "numbers = [1, 2, 3, 4, 5]\n",
    "\n",
    "# برای اینکه اندیس رو برگردونیم میتونیم از \n",
    "# enumerate\n",
    "# استفاده کنیم.\n",
    "for index, i in enumerate(numbers):\n",
    "    print(\"index: \", index, ' -> ', i)"
   ]
  },
  {
   "attachments": {},
   "cell_type": "markdown",
   "metadata": {},
   "source": [
    "#### `range` تابع\n",
    "\n",
    "با کمک این تابع میتونیم مشخص کنیم که یه حلقه مون چند بار اجرا بشه"
   ]
  },
  {
   "cell_type": "code",
   "execution_count": 11,
   "metadata": {},
   "outputs": [
    {
     "name": "stdout",
     "output_type": "stream",
     "text": [
      "0\n",
      "1\n",
      "2\n",
      "3\n",
      "4\n"
     ]
    }
   ],
   "source": [
    "# حلقه ۵ بار اجرا میشه\n",
    "for i in range(5):\n",
    "    print(i)"
   ]
  },
  {
   "cell_type": "code",
   "execution_count": 12,
   "metadata": {},
   "outputs": [
    {
     "name": "stdout",
     "output_type": "stream",
     "text": [
      "100\n",
      "101\n",
      "102\n",
      "103\n",
      "104\n",
      "105\n",
      "106\n",
      "107\n",
      "108\n",
      "109\n"
     ]
    }
   ],
   "source": [
    "# میتونیم یک بازه رو بهش بدیم و توی این بازه بتونه حلقه رو اجرا کنه\n",
    "for i in range(100, 110):\n",
    "    print(i)"
   ]
  },
  {
   "attachments": {},
   "cell_type": "markdown",
   "metadata": {},
   "source": [
    "#### حلقه روی دیکشنری ها\n",
    "\n",
    "روی دیکشنری ها بخوایم پیمایش کنیم باید از کلید و مقدارش با کمک \n",
    "\n",
    "`items()‍‍`\n",
    "\n",
    "استفاده کنیم. مثال زیر رو ببینین دست تون میاد"
   ]
  },
  {
   "cell_type": "code",
   "execution_count": 17,
   "metadata": {},
   "outputs": [
    {
     "name": "stdout",
     "output_type": "stream",
     "text": [
      "Key:  name \tValue:  Python\n",
      "Key:  version \tValue:  3.11\n",
      "Key:  author \tValue:  Guido\n"
     ]
    }
   ],
   "source": [
    "lang = { \n",
    "            \"name\": \"Python\",\n",
    "            \"version\": 3.11,\n",
    "            \"author\": \"Guido\"\n",
    "}\n",
    "\n",
    "for key, value in lang.items():\n",
    "    print(\"Key: \", key, \"\\tValue: \", value)"
   ]
  }
 ],
 "metadata": {
  "kernelspec": {
   "display_name": "Python 3",
   "language": "python",
   "name": "python3"
  },
  "language_info": {
   "codemirror_mode": {
    "name": "ipython",
    "version": 3
   },
   "file_extension": ".py",
   "mimetype": "text/x-python",
   "name": "python",
   "nbconvert_exporter": "python",
   "pygments_lexer": "ipython3",
   "version": "3.11.0rc2"
  },
  "orig_nbformat": 4,
  "vscode": {
   "interpreter": {
    "hash": "ead1b95f633dc9c51826328e1846203f51a198c6fb5f2884a80417ba131d4e82"
   }
  }
 },
 "nbformat": 4,
 "nbformat_minor": 2
}
