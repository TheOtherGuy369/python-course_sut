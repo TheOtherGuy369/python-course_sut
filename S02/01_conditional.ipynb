{
 "cells": [
  {
   "attachments": {},
   "cell_type": "markdown",
   "metadata": {},
   "source": [
    "## `if` and `else` statements"
   ]
  },
  {
   "attachments": {},
   "cell_type": "markdown",
   "metadata": {},
   "source": [
    "### نوع داده None\n",
    "\n",
    "وقتی بخوایم یه متغیر تعریف کنیم و نوع اون رو ندونیم \n",
    "\n",
    "مثلا نمیدونیم \n",
    "\n",
    "`int`\n",
    "\n",
    "هست یا\n",
    "\n",
    "`boolean`\n",
    "\n",
    "یا `رشته`\n",
    "\n",
    "یا `لیست` یا `توپل` یا `دیکشنری`\n",
    "\n",
    "میتونیم مقدار متغیر رو \n",
    "\n",
    "`None` بذاریم.\n",
    "\n",
    "---\n",
    "\n",
    "> `None` در واقع همون مقدار \n",
    ">\n",
    "> null \n",
    "> \n",
    "> توی زبان های برنامه نویسی دیگه هست."
   ]
  },
  {
   "cell_type": "code",
   "execution_count": 3,
   "metadata": {},
   "outputs": [
    {
     "name": "stdout",
     "output_type": "stream",
     "text": [
      "None\n",
      "<class 'NoneType'>\n"
     ]
    }
   ],
   "source": [
    "x = None\n",
    "\n",
    "print(x)\n",
    "\n",
    "print(type(x))"
   ]
  },
  {
   "cell_type": "code",
   "execution_count": 1,
   "metadata": {},
   "outputs": [
    {
     "data": {
      "text/plain": [
       "bool"
      ]
     },
     "execution_count": 1,
     "metadata": {},
     "output_type": "execute_result"
    }
   ],
   "source": [
    "# اینجا من یه متغیر از نوع بولین تعریف کردم و همون طور که میبین تایپ اون \n",
    "# bool\n",
    "# هست\n",
    "\n",
    "is_active = True # False\n",
    "\n",
    "type(is_active)"
   ]
  },
  {
   "attachments": {},
   "cell_type": "markdown",
   "metadata": {},
   "source": [
    "### Block و Indent\n",
    "\n",
    "اگه مثلا یه شرط داشته باشی، کدهای داخل اون شرط در واقع همون بلاک شرط ت هستن.\n",
    "ایندنت هم یعنی توی یه بلاک باید کدها تو زیر همدیگه و با حداقل یه فاصله بنویسی\n",
    "\n",
    "---\n",
    "\n",
    "خود پایتون پیشنهاد میده که ۴ فاصله بذارین.\n",
    "پپ ۸ پایتون رو ببینین:\n",
    "\n",
    "https://peps.python.org/pep-0008/#indentation\n",
    "\n",
    "اگه لینک رو باز کنین دقیقا بهتون میگه ۴ تا فاصله بذارین\n"
   ]
  },
  {
   "attachments": {},
   "cell_type": "markdown",
   "metadata": {},
   "source": [
    "### If\n",
    "\n",
    "برای اینکه شرطهامون رو کنترل کنیم از این دستور استفاده میکنیم"
   ]
  },
  {
   "cell_type": "code",
   "execution_count": 2,
   "metadata": {},
   "outputs": [
    {
     "name": "stdout",
     "output_type": "stream",
     "text": [
      ">> OK\n"
     ]
    }
   ],
   "source": [
    "if is_active == True: \n",
    "    # indent\n",
    "    # PEP8\n",
    "    print(\">> OK\")\n"
   ]
  },
  {
   "cell_type": "code",
   "execution_count": 3,
   "metadata": {},
   "outputs": [],
   "source": [
    "is_active = False\n",
    "\n",
    "if is_active:\n",
    "    print(\">> is_active is False\")"
   ]
  },
  {
   "cell_type": "code",
   "execution_count": 4,
   "metadata": {},
   "outputs": [
    {
     "data": {
      "text/plain": [
       "False"
      ]
     },
     "execution_count": 4,
     "metadata": {},
     "output_type": "execute_result"
    }
   ],
   "source": [
    "x = None\n",
    "\n",
    "if x:\n",
    "    print(\">> x is None\")\n",
    "\n",
    "bool(x)"
   ]
  },
  {
   "cell_type": "code",
   "execution_count": 5,
   "metadata": {},
   "outputs": [
    {
     "name": "stdout",
     "output_type": "stream",
     "text": [
      ">> Pyhton\n"
     ]
    }
   ],
   "source": [
    "lang = \"Python\"\n",
    "\n",
    "if lang == \"Matlab\":\n",
    "    print(\">> Matlab\")\n",
    "else:\n",
    "    print(\">> Pyhton\")"
   ]
  },
  {
   "cell_type": "code",
   "execution_count": 6,
   "metadata": {},
   "outputs": [
    {
     "name": "stdout",
     "output_type": "stream",
     "text": [
      ">> Matlab\n"
     ]
    }
   ],
   "source": [
    "lang = \"Matlab\"\n",
    "\n",
    "if lang == \"Matlab\":\n",
    "    print(\">> Matlab\")\n",
    "else:\n",
    "    print(\">> Pyhton\")"
   ]
  },
  {
   "attachments": {},
   "cell_type": "markdown",
   "metadata": {},
   "source": [
    "### elif\n",
    "\n",
    "دستور \n",
    "\n",
    "`else if`\n",
    "\n",
    "توی پایتون به صورت خلاصه و با\n",
    "\n",
    "`elif`\n",
    "\n",
    "میاد"
   ]
  },
  {
   "cell_type": "code",
   "execution_count": 7,
   "metadata": {},
   "outputs": [
    {
     "name": "stdout",
     "output_type": "stream",
     "text": [
      ">> Java\n"
     ]
    }
   ],
   "source": [
    "lang = \"Java\" # match -> 3.10, 3.11\n",
    "\n",
    "if lang == \"Matlab\":\n",
    "    print(\">> Matlab\")\n",
    "elif lang==\"C++\":\n",
    "    print(\">> C++\")\n",
    "elif lang==\"Java\":\n",
    "    print(\">> Java\")\n",
    "else:\n",
    "    print(\">> Pyhton\")"
   ]
  },
  {
   "attachments": {},
   "cell_type": "markdown",
   "metadata": {},
   "source": [
    "### جستجوی کلید در دیکشنری\n"
   ]
  },
  {
   "cell_type": "code",
   "execution_count": 15,
   "metadata": {},
   "outputs": [
    {
     "name": "stdout",
     "output_type": "stream",
     "text": [
      ">> Ok\n"
     ]
    }
   ],
   "source": [
    "# به هیچ عنوان توی نامگذاری هاتون از کلمات کلید مثل\n",
    "# dict, list, tuple\n",
    "# و خیلی چیزای دیگه استفاده نکنین\n",
    "\n",
    "d = {\n",
    "    \"name\": \"Python\"\n",
    "}\n",
    "\n",
    "if \"name\" in d:\n",
    "    print(\">> Ok\")"
   ]
  },
  {
   "attachments": {},
   "cell_type": "markdown",
   "metadata": {},
   "source": [
    "### جستجوی یک ایتم در یک لیست"
   ]
  },
  {
   "cell_type": "code",
   "execution_count": 8,
   "metadata": {},
   "outputs": [
    {
     "name": "stdout",
     "output_type": "stream",
     "text": [
      "output [3.11, 3.1, 3.9]\n"
     ]
    }
   ],
   "source": [
    "my_list = [3.11, 3.10, 3.9]\n",
    "\n",
    "# if 3.11 in my_list:\n",
    "#     print(\">> Ok\")\n",
    "\n",
    "if 3.7 in my_list:\n",
    "    print(\">> 3.7\")\n",
    "else:\n",
    "    print(\"output\", my_list)"
   ]
  },
  {
   "attachments": {},
   "cell_type": "markdown",
   "metadata": {},
   "source": [
    "### توجه مهم!\n",
    "\n",
    "هر کدوم از مقدار های زیر که به متغیرهاتون دادین \n",
    "\n",
    "`False`\n",
    "\n",
    "هستن\n",
    "\n",
    "میتونین از \n",
    "\n",
    "تابع  `built-in` \n",
    "\n",
    "`bool()`\n",
    "\n",
    "تست کنین که خروجی\n",
    "\n",
    "`False`\n",
    "\n",
    "هست\n",
    "\n",
    "-----------\n",
    "\n",
    "[] -> لیست خالی\n",
    "\n",
    "() -> توپل خالی\n",
    "\n",
    "\"\" -> رشته خالی\n",
    "\n",
    "{} -> رشته خالی\n",
    "\n"
   ]
  },
  {
   "cell_type": "code",
   "execution_count": 6,
   "metadata": {},
   "outputs": [
    {
     "data": {
      "text/plain": [
       "False"
      ]
     },
     "execution_count": 6,
     "metadata": {},
     "output_type": "execute_result"
    }
   ],
   "source": [
    "empty_list = []\n",
    "bool(empty_list)\n",
    "\n",
    "empty_string = \"\"\n",
    "bool(empty_string)\n",
    "\n",
    "empty_dict = {}\n",
    "bool(empty_dict)"
   ]
  }
 ],
 "metadata": {
  "kernelspec": {
   "display_name": "Python 3",
   "language": "python",
   "name": "python3"
  },
  "language_info": {
   "codemirror_mode": {
    "name": "ipython",
    "version": 3
   },
   "file_extension": ".py",
   "mimetype": "text/x-python",
   "name": "python",
   "nbconvert_exporter": "python",
   "pygments_lexer": "ipython3",
   "version": "3.11.0rc2"
  },
  "orig_nbformat": 4,
  "vscode": {
   "interpreter": {
    "hash": "ead1b95f633dc9c51826328e1846203f51a198c6fb5f2884a80417ba131d4e82"
   }
  }
 },
 "nbformat": 4,
 "nbformat_minor": 2
}
