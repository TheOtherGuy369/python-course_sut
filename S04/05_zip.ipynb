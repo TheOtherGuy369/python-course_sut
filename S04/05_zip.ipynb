{
 "cells": [
  {
   "attachments": {},
   "cell_type": "markdown",
   "metadata": {},
   "source": [
    "## zip function"
   ]
  },
  {
   "attachments": {},
   "cell_type": "markdown",
   "metadata": {},
   "source": [
    "### عملکرد\n",
    "\n",
    "- دو تا ایتریتور را کنار هم در نظر بگیرید (مثلا دو تا لیست از اعداد و اسامی)، عناصر آنها را کنار همدیگر،‌جفت، میگذارد.\n",
    "\n",
    "---\n",
    "<p align=\"center\">\n",
    "  <img width=\"500\" height=\"400\" alt=\"zip\" src=\"https://raw.githubusercontent.com/hasanisaeed/python-course/main/S04/assets/05_zip.png\"> \n",
    "   <strong>تصویر شماره یک</strong> \n",
    "</p>\n",
    "\n",
    "----\n",
    "\n",
    "<p align=\"center\">\n",
    "  <img width=\"800\" height=\"400\" alt=\"zip\" src=\"https://raw.githubusercontent.com/hasanisaeed/python-course/main/S04/assets/04_zip.jpg\">\n",
    "  <strong>تصویر شماره دو</strong>\n",
    "</p>"
   ]
  },
  {
   "cell_type": "code",
   "execution_count": null,
   "metadata": {},
   "outputs": [],
   "source": []
  },
  {
   "cell_type": "code",
   "execution_count": 1,
   "metadata": {},
   "outputs": [],
   "source": [
    "student = [\"Ali\", \"Reza\", \"Hoda\"]\n",
    "numbers = [  19 ,   18  ,  17   ]\n",
    "\n",
    "merged = zip(student, numbers)"
   ]
  },
  {
   "cell_type": "code",
   "execution_count": 2,
   "metadata": {},
   "outputs": [
    {
     "name": "stdout",
     "output_type": "stream",
     "text": [
      "<zip object at 0x7f2e200b9840>\n"
     ]
    }
   ],
   "source": [
    "print(merged)"
   ]
  },
  {
   "cell_type": "code",
   "execution_count": 3,
   "metadata": {},
   "outputs": [
    {
     "name": "stdout",
     "output_type": "stream",
     "text": [
      "[('Ali', 19), ('Reza', 18), ('Hoda', 17)]\n"
     ]
    }
   ],
   "source": [
    "print(list(merged))"
   ]
  },
  {
   "cell_type": "code",
   "execution_count": 9,
   "metadata": {},
   "outputs": [
    {
     "name": "stdout",
     "output_type": "stream",
     "text": [
      "2\n",
      "3\n",
      "[('Ali', 19), ('Reza', 18)]\n"
     ]
    }
   ],
   "source": [
    "student = [\"Ali\", \"Reza\"]\n",
    "numbers = [  19 ,   18  ,  17 ,  ]\n",
    "\n",
    "print(len(student))\n",
    "print(len(numbers))\n",
    "\n",
    "merged = zip(student, numbers)\n",
    "\n",
    "print(list(merged))"
   ]
  },
  {
   "cell_type": "code",
   "execution_count": 10,
   "metadata": {},
   "outputs": [],
   "source": [
    "items = [1, 2, 3, 4]\n",
    "\n",
    "a, *b = items"
   ]
  },
  {
   "cell_type": "code",
   "execution_count": 11,
   "metadata": {},
   "outputs": [
    {
     "name": "stdout",
     "output_type": "stream",
     "text": [
      "4\n"
     ]
    }
   ],
   "source": [
    "items = [1, 2, 3, 4]\n",
    "\n",
    "*x , y = items\n",
    "print(y)"
   ]
  },
  {
   "cell_type": "code",
   "execution_count": 12,
   "metadata": {},
   "outputs": [
    {
     "name": "stdout",
     "output_type": "stream",
     "text": [
      "4\n",
      "3\n"
     ]
    }
   ],
   "source": [
    "items = [1, 2, 3, 4]\n",
    "\n",
    "*x , z,  y = items\n",
    "print(y)\n",
    "print(z)"
   ]
  },
  {
   "cell_type": "code",
   "execution_count": 13,
   "metadata": {},
   "outputs": [
    {
     "ename": "SyntaxError",
     "evalue": "multiple starred expressions in assignment (742460783.py, line 3)",
     "output_type": "error",
     "traceback": [
      "\u001b[0;36m  Cell \u001b[0;32mIn[13], line 3\u001b[0;36m\u001b[0m\n\u001b[0;31m    *x , z,  *y = items\u001b[0m\n\u001b[0m    ^\u001b[0m\n\u001b[0;31mSyntaxError\u001b[0m\u001b[0;31m:\u001b[0m multiple starred expressions in assignment\n"
     ]
    }
   ],
   "source": [
    "items = [1, 2, 3, 4]\n",
    "\n",
    "*x , z,  *y = items"
   ]
  },
  {
   "cell_type": "code",
   "execution_count": 17,
   "metadata": {},
   "outputs": [
    {
     "name": "stdout",
     "output_type": "stream",
     "text": [
      "<class 'list'>\n",
      "[2, 3, 4]\n",
      "2 [3, 4]\n"
     ]
    }
   ],
   "source": [
    "items = [1, 2, 3, 4]\n",
    "\n",
    "x , *y = items\n",
    "print(type(y))\n",
    "print(y)\n",
    "\n",
    "a, *b = y\n",
    "print(a, b)"
   ]
  }
 ],
 "metadata": {
  "kernelspec": {
   "display_name": "Python 3",
   "language": "python",
   "name": "python3"
  },
  "language_info": {
   "codemirror_mode": {
    "name": "ipython",
    "version": 3
   },
   "file_extension": ".py",
   "mimetype": "text/x-python",
   "name": "python",
   "nbconvert_exporter": "python",
   "pygments_lexer": "ipython3",
   "version": "3.11.0"
  },
  "orig_nbformat": 4,
  "vscode": {
   "interpreter": {
    "hash": "ead1b95f633dc9c51826328e1846203f51a198c6fb5f2884a80417ba131d4e82"
   }
  }
 },
 "nbformat": 4,
 "nbformat_minor": 2
}
