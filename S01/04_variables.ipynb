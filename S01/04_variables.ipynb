{
 "cells": [
  {
   "attachments": {},
   "cell_type": "markdown",
   "metadata": {},
   "source": [
    "## Variables\n",
    "\n",
    "به طور ساده وقتی شما میخواین یه عدد مثل 5 رو توی حافظه سیستم تون نگه دارین، باید به اون `مکانی که توی حافظه` نگه میدارین یه اسم بدین. این اسم دقیقا همون `متغیر` هست.\n",
    "\n",
    "---\n",
    "\n",
    "نام هایی که به متغیر ها میدین باید از این قواعد پیروی کنن:\n",
    "\n",
    "-  نام های انتخابی باید ` شامل` کاراکترهای الفبای انگیسی و اعداد باشه\n",
    "- نام ها `نمیتونن` با اعداد شروع بشن!\n",
    "- توی پایتون نام ها میتوانند شامل کاراکتر آندرلاین (_) باشند\n",
    "\n",
    "---\n",
    "\n",
    "مثلا این نامگذاری ها اشتباه هستن:\n",
    "\n",
    "`@my_name` , `3_family` , `!_age`\n",
    "\n",
    "نامهای درست:\n",
    "\n",
    "`my_name` , `family` , `_age` , `last_name`\n",
    "\n",
    "---\n",
    "\n",
    "برای اینکه بیشتر بدونین این لینک رو ببینین\n",
    "\n",
    "https://virgool.io/@sadegh.dev/variables-kkim77chbca1\n"
   ]
  },
  {
   "attachments": {},
   "cell_type": "markdown",
   "metadata": {},
   "source": [
    "### Numbers\n",
    "\n",
    "اعداد توی پایتون شامل موارد زیر میشوند:\n",
    "- اعداد صحیح\n",
    "- اعداد اعشاری\n",
    "- اعداد مختلط\n"
   ]
  },
  {
   "attachments": {},
   "cell_type": "markdown",
   "metadata": {},
   "source": [
    "#### int\n",
    "همان عددهای صحیح هست:\n",
    "\n",
    "..., -1, 0, 1, 2, 3, ..."
   ]
  },
  {
   "cell_type": "code",
   "execution_count": 26,
   "metadata": {},
   "outputs": [
    {
     "name": "stdout",
     "output_type": "stream",
     "text": [
      "5 -1401 50000000\n"
     ]
    }
   ],
   "source": [
    "a = 5\n",
    "b = -1401\n",
    "c = 50000000\n",
    "\n",
    "print(a, b, c)"
   ]
  },
  {
   "attachments": {},
   "cell_type": "markdown",
   "metadata": {},
   "source": [
    "برای اینکه نوع یک متغیر رو بشناسیم از دستور \n",
    "\n",
    "`type`\n",
    "\n",
    "استفاده میکنیم"
   ]
  },
  {
   "cell_type": "code",
   "execution_count": 27,
   "metadata": {},
   "outputs": [
    {
     "data": {
      "text/plain": [
       "int"
      ]
     },
     "execution_count": 27,
     "metadata": {},
     "output_type": "execute_result"
    }
   ],
   "source": [
    "type(c)"
   ]
  },
  {
   "attachments": {},
   "cell_type": "markdown",
   "metadata": {},
   "source": [
    "#### float\n",
    "\n",
    "اعداد اعشاری در این دسته قرار دارند."
   ]
  },
  {
   "cell_type": "code",
   "execution_count": 28,
   "metadata": {},
   "outputs": [
    {
     "name": "stdout",
     "output_type": "stream",
     "text": [
      "<class 'float'>\n"
     ]
    }
   ],
   "source": [
    "pi = 3.14158\n",
    "g = 9.8\n",
    "\n",
    "print(type(pi))"
   ]
  },
  {
   "attachments": {},
   "cell_type": "markdown",
   "metadata": {},
   "source": [
    "#### complex\n",
    "\n",
    "اعداد مختلط در این دسته قرار میگیرند.\n",
    "\n",
    "> توجه داشته باشین که در پایتون قسمت موهومی با\n",
    ">\n",
    "> `j` \n",
    ">\n",
    "> مشخص میشوند \n",
    ">\n",
    "> `3 + 6j`\n"
   ]
  },
  {
   "attachments": {},
   "cell_type": "markdown",
   "metadata": {},
   "source": [
    "#### محاسبات ریاضی بر روی اعداد\n",
    "\n",
    "تمام عملیات های:\n",
    "- جمع با علامت `+`\n",
    "- تفریق با علامت `-`\n",
    "- ضرب با علامت `*`\n",
    "- تقسیم با علامت `/`\n",
    "- به توان رساندن با علامت دو تا ستاره `**`\n",
    "- محاسبه باقیمانده با علامت درصد `%`\n",
    "\n",
    "را میتوانید روی اعداد اعمال کنید."
   ]
  },
  {
   "cell_type": "code",
   "execution_count": 29,
   "metadata": {},
   "outputs": [
    {
     "name": "stdout",
     "output_type": "stream",
     "text": [
      "area =  78.53949999999999\n"
     ]
    }
   ],
   "source": [
    "raduis = 5\n",
    "perimeter = 2 * pi * raduis     # متغیر pi در قسمت اعداد اعشاری مقدار گرفته بود. برای همین اینجا استفاده کردم.\n",
    "\n",
    "area = pi * raduis ** 2         # اینجا شعاع رو با دو تا ستاره به توان دو رسوندیم و بعد در عدد پی ضرب کردیم\n",
    "\n",
    "print(\"area = \", area)"
   ]
  },
  {
   "attachments": {},
   "cell_type": "markdown",
   "metadata": {},
   "source": [
    "میتوانید عملیات ها را بر روی اعداد مختلط هم انجام دهید"
   ]
  },
  {
   "cell_type": "code",
   "execution_count": 30,
   "metadata": {},
   "outputs": [
    {
     "name": "stdout",
     "output_type": "stream",
     "text": [
      "c1 * c2 =  (11.2+42.5j)\n",
      "c1 + c2 =  (11.2+42.5j)\n"
     ]
    }
   ],
   "source": [
    "c1 = 5 - 2j\n",
    "c2 = -1 + 8.1j\n",
    "\n",
    "# ---------------\n",
    "\n",
    "print(\"c1 * c2 = \", c1 * c2)\n",
    "print(\"c1 + c2 = \", c1 * c2)"
   ]
  },
  {
   "attachments": {},
   "cell_type": "markdown",
   "metadata": {},
   "source": [
    "برای اینکه با اعداد و عملیات های آنها بیشتر آشنا شوند این لینک میتونه مفید باشه:\n",
    "\n",
    "https://sabzdanesh.com/python-numbers/"
   ]
  },
  {
   "cell_type": "code",
   "execution_count": 31,
   "metadata": {},
   "outputs": [
    {
     "name": "stdout",
     "output_type": "stream",
     "text": [
      "c1 =  (3+6j)\n",
      "c2 =  (-1-8j)\n"
     ]
    }
   ],
   "source": [
    "c1 = 3 + 6j\n",
    "c2 = -1 - 8j\n",
    "\n",
    "print(\"c1 = \", c1)\n",
    "print(\"c2 = \", c2)"
   ]
  },
  {
   "attachments": {},
   "cell_type": "markdown",
   "metadata": {},
   "source": [
    "### Strings\n",
    "\n",
    "لیست ها مثل آرایه هستن که میتونین با اندیس ها به هر کدوم از کاراکترهای اون دسترسی داشته باشیم."
   ]
  },
  {
   "cell_type": "markdown",
   "metadata": {},
   "source": [
    "برای اینکه رشته های کاراکتر رو بتونیم نگه داریم از \n",
    "\n",
    "`str`\n",
    "\n",
    "استفاده میکنیم.\n",
    "\n",
    "> در پایتون نوع رشته با \n",
    "> \n",
    "> `str`\n",
    "> \n",
    "> نشان داده میشود."
   ]
  },
  {
   "cell_type": "code",
   "execution_count": 32,
   "metadata": {},
   "outputs": [
    {
     "name": "stdout",
     "output_type": "stream",
     "text": [
      "<class 'str'>\n"
     ]
    }
   ],
   "source": [
    "language = \"Python:\"\n",
    "text = \"Simple is better than complex\"\n",
    "\n",
    "print(type(text))"
   ]
  },
  {
   "attachments": {},
   "cell_type": "markdown",
   "metadata": {},
   "source": [
    "میتوانید رشته ها را با هم با علامت بعلاوه جمع کنید."
   ]
  },
  {
   "cell_type": "code",
   "execution_count": 33,
   "metadata": {},
   "outputs": [
    {
     "name": "stdout",
     "output_type": "stream",
     "text": [
      "content =  Python: Simple is better than complex\n"
     ]
    }
   ],
   "source": [
    "content = language + \" \" + text\n",
    "print(\"content = \", content)"
   ]
  },
  {
   "cell_type": "code",
   "execution_count": 34,
   "metadata": {},
   "outputs": [
    {
     "name": "stdout",
     "output_type": "stream",
     "text": [
      "content[10]    :  m\n",
      "content[8: 15] :  Simple \n"
     ]
    }
   ],
   "source": [
    "# اگه بخوایم خونه 10 متغیر content رو ببینیم\n",
    "print(\"content[10]    : \" , content[10])\n",
    "\n",
    "# اگه بخوایم از خونه 8 تا خونه 15 رو ببینیم\n",
    "print(\"content[8: 15] : \", content[8: 15])"
   ]
  },
  {
   "attachments": {},
   "cell_type": "markdown",
   "metadata": {},
   "source": [
    "برای اینکه با لیست ها بیشتر کار کنین این لینک رو ببین:\n",
    "\n",
    "https://sabzdanesh.com/%D8%B1%D8%B4%D8%AA%D9%87-%D8%AF%D8%B1-%D9%BE%D8%A7%DB%8C%D8%AA%D9%88%D9%86/"
   ]
  },
  {
   "attachments": {},
   "cell_type": "markdown",
   "metadata": {},
   "source": [
    "### Boolean"
   ]
  },
  {
   "attachments": {},
   "cell_type": "markdown",
   "metadata": {},
   "source": [
    "مقادیر منطقی در پایتون با \n",
    "\n",
    "`bool`\n",
    "\n",
    "شناخته میشوند."
   ]
  },
  {
   "cell_type": "code",
   "execution_count": 35,
   "metadata": {},
   "outputs": [
    {
     "name": "stdout",
     "output_type": "stream",
     "text": [
      "<class 'bool'>\n"
     ]
    }
   ],
   "source": [
    "active = True\n",
    "disable = False\n",
    "\n",
    "# ----------\n",
    "\n",
    "print(type(disable))\n",
    "\n",
    "# همانطور که میبینم نوع این متغیر رو \n",
    "# bool برمیگرداند."
   ]
  },
  {
   "attachments": {},
   "cell_type": "markdown",
   "metadata": {},
   "source": [
    "#### عملیات های منطقی\n",
    "\n",
    "به این شکل یه نگاه بندازین:\n",
    "\n",
    "![image.png](https://raw.githubusercontent.com/hasanisaeed/python-course/2a7d7773dfc47fc1e7a265696197c7c6cd0dbf11/S01/assets/images/logical_operator.png)\n",
    "\n",
    "---\n",
    "\n",
    "عملیات های منطقی در پایتون با دو عملگر \n",
    "\n",
    "- and\n",
    "- or\n",
    "\n",
    "تعریف میشوند."
   ]
  },
  {
   "cell_type": "code",
   "execution_count": 36,
   "metadata": {},
   "outputs": [
    {
     "name": "stdout",
     "output_type": "stream",
     "text": [
      "a and b   :  False\n",
      "a or b    :  True\n",
      "a and True:  True\n"
     ]
    }
   ],
   "source": [
    "a = True\n",
    "b = False\n",
    "\n",
    "# ---------\n",
    "# لطفا به شکل نگاه کنید. خروجی ستون دوم هست\n",
    "\n",
    "print(\"a and b   : \", a and b)\n",
    "print(\"a or b    : \", a or b)\n",
    "print(\"a and True: \", a and True)"
   ]
  },
  {
   "attachments": {},
   "cell_type": "markdown",
   "metadata": {},
   "source": [
    "### Lists\n",
    "\n",
    " - لیست ها در واقع همان تعریف آرایه هستن\n",
    " - لیست ها میتوانند شامل هر نوع داده ای مانند عدد صحیح یا رشته یا منطقی و ... باشند.\n",
    " - لیست ها با علامت `[ ]` نشان داده میشوند."
   ]
  },
  {
   "cell_type": "code",
   "execution_count": 37,
   "metadata": {},
   "outputs": [
    {
     "name": "stdout",
     "output_type": "stream",
     "text": [
      "[1, 6.7, (3+2j), 'Python']\n",
      "[1, 6.7, (3+2j)]\n"
     ]
    }
   ],
   "source": [
    "# این لیست فقط شامل سه تا رشته هست\n",
    "languages = [ \"Python\", \"C++\", \"Java\"]\n",
    "\n",
    "# print(languages)\n",
    "\n",
    "# این لیست شامل اعداد است.\n",
    "numbers = [1, 6.7, 3 + 2j]\n",
    "\n",
    "# print(numbers[1])\n",
    "# print(numbers)\n",
    "\n",
    "\n",
    "\n",
    "numbers.append(\"Python\")\n",
    "print(numbers)\n",
    "\n",
    "del numbers[3]\n",
    "\n",
    "print(numbers)\n",
    "# این لیست شامل همه انواع مختلف متغیرهاست\n",
    "my_list = [\"Python\", 3.11, True]"
   ]
  },
  {
   "attachments": {},
   "cell_type": "markdown",
   "metadata": {},
   "source": [
    "#### عملیات بر روی لیست ها"
   ]
  },
  {
   "attachments": {},
   "cell_type": "markdown",
   "metadata": {},
   "source": [
    "- میتوانیم یک عنصر از لیست انتخاب کنیم با کمک اندیس\n",
    "- میتوانیم آیتمی در یک لیست اضافه کنیم\n",
    "- میتوانیم آیتمی از لیست حذف کنیم\n",
    "- میتوان دو تا لیست را باهم ترکیب کرد\n",
    "\n",
    "برای اینکه بیشتر با لیست ها کار کنید به این لینک سر بزنین:\n",
    "\n",
    "https://sabzdanesh.com/%D9%84%DB%8C%D8%B3%D8%AA-%D8%AF%D8%B1-%D9%BE%D8%A7%DB%8C%D8%AA%D9%88%D9%86/"
   ]
  },
  {
   "cell_type": "code",
   "execution_count": 38,
   "metadata": {},
   "outputs": [
    {
     "name": "stdout",
     "output_type": "stream",
     "text": [
      "my_list[2]   :  C++\n",
      "my_list[1: 3]:  ['Matlab', 'C++']\n",
      "Delete Matlab:  ['Python', 'C++', 'Java']\n",
      "Appended     :  ['Python', 'C++', 'Java', 'Scala']\n"
     ]
    }
   ],
   "source": [
    "my_list = [\"Python\", \"Matlab\", \"C++\", \"Java\"]\n",
    "\n",
    "# انتخاب یک عنصر با کمک اندیس\n",
    "print(\"my_list[2]   : \", my_list[2])\n",
    "\n",
    "# مثلا اگر بخواهیم از عنصر یک تا سه را مشاهده کنیم\n",
    "print(\"my_list[1: 3]: \", my_list[1: 3])\n",
    "\n",
    "# برای اینکه عنصر دوم را حذف کنیم از این دستور استفاده میکنیم\n",
    "del my_list[1]\n",
    "\n",
    "print(\"Delete Matlab: \", my_list)\n",
    "\n",
    "# با دستور append\n",
    "# میتوانید عنصری را به آخر لیست اضافه کنیم\n",
    "my_list.append(\"Scala\")\n",
    "print(\"Appended     : \", my_list)"
   ]
  },
  {
   "attachments": {},
   "cell_type": "markdown",
   "metadata": {},
   "source": [
    "### Tuple\n",
    "\n",
    "- مثل لیست ها هستن\n",
    "- توپل رو با علامت `( )` نشان میدیم.\n",
    "- اگه یه بار تعریف کردین دیگه نمیتونین به مقادیرش دست بزنین"
   ]
  },
  {
   "attachments": {},
   "cell_type": "markdown",
   "metadata": {},
   "source": [
    "توپل هم شبیه به لیست هست با این تفاوت که وقتی تعریفش کردین دیگه نمیتونین تغییرش بدین.\n",
    "\n",
    "> به نوع داده هایی که قابل تغییر نیستن در پایتون بهشون میگیم\n",
    "> \n",
    "> `immutable`\n",
    ">\n",
    "> در مقابلشون \n",
    "> \n",
    "> `mutable`\n",
    "> \n",
    "> هست که مثلا لیست ها در این دسته قرار دارن. چون تونستین هم بهشون آیتم اضافه کنین، هم حذف کنین و ..."
   ]
  },
  {
   "cell_type": "code",
   "execution_count": 39,
   "metadata": {},
   "outputs": [
    {
     "name": "stdout",
     "output_type": "stream",
     "text": [
      "(1, 2)\n",
      "<class 'tuple'>\n",
      "(1, 2)\n"
     ]
    }
   ],
   "source": [
    "t = (1, 2)\n",
    "print(t)\n",
    "\n",
    "# del t[0]\n",
    "\n",
    "# t.append() -> Error\n",
    "\n",
    "t2 = 1, 2\n",
    "print(type(t2))\n",
    "print(t2)"
   ]
  },
  {
   "cell_type": "code",
   "execution_count": 40,
   "metadata": {},
   "outputs": [
    {
     "name": "stdout",
     "output_type": "stream",
     "text": [
      "my_tupe[2]   :  C++\n",
      "my_tupe[1: 3]:  ('Matlab', 'C++')\n"
     ]
    }
   ],
   "source": [
    "my_tuple = (\"Python\", \"Matlab\", \"C++\", \"Java\")\n",
    "\n",
    "# انتخاب یک عنصر با کمک اندیس\n",
    "print(\"my_tupe[2]   : \", my_tuple[2])\n",
    "\n",
    "# مثلا اگر بخواهیم از عنصر یک تا سه را مشاهده کنیم\n",
    "print(\"my_tupe[1: 3]: \", my_tuple[1: 3])\n",
    "\n",
    "# اگه این دستور رو اجرا کنین به خطا میخورین چون نمیتونین مقدار از توپل حذف کنین.\n",
    "# del my_tuple[1]"
   ]
  },
  {
   "attachments": {},
   "cell_type": "markdown",
   "metadata": {},
   "source": [
    "### Dictionary"
   ]
  },
  {
   "attachments": {},
   "cell_type": "markdown",
   "metadata": {},
   "source": [
    "مثل یه دیشکنری انگلیسی به فارسی در نظر بگیرین.\n",
    "\n",
    "این نوع داده هم دقیقا شبیه همین هست به این صورت که شما یه لغت دارین (`کلید`) و ترجمه اش (`مقدار`) پس:\n",
    "\n",
    "- دیکشتری با علامت `{ }` مشخص میشه و هر آیتم اون یک کلید هست (همون لغت) و یه مقدار\n"
   ]
  },
  {
   "cell_type": "code",
   "execution_count": 41,
   "metadata": {},
   "outputs": [
    {
     "name": "stdout",
     "output_type": "stream",
     "text": [
      "{'name': 'Python', 'version': 3.11, 'author': 'Guido'}\n"
     ]
    }
   ],
   "source": [
    "# در زیر من یه دیکشنری از اطلاعات پایتون نگهداری کرده ام\n",
    "lang = { \n",
    "            \"name\": \"Python\",\n",
    "            \"version\": 3.11,\n",
    "            \"author\": \"Guido\"\n",
    "}\n",
    "\n",
    "print(lang)"
   ]
  },
  {
   "attachments": {},
   "cell_type": "markdown",
   "metadata": {},
   "source": [
    "در قسمت زیر این عملیات ها را بر روی دیکشنری بالا اعمال میکنیم\n",
    "\n",
    "- اینجا به جای اندیس با کلید به مقدار یه آیتم دسترسی پیدا میکنیم\n",
    "- حذف یک آیتم از دیشکنری\n",
    "- افزودن یک آیتم به دیکشنری"
   ]
  },
  {
   "cell_type": "code",
   "execution_count": 42,
   "metadata": {},
   "outputs": [
    {
     "name": "stdout",
     "output_type": "stream",
     "text": [
      "Python\n"
     ]
    }
   ],
   "source": [
    "# برای اینکه به یک آیتم دسترسی داشته باشیم، کافیه با کلید اون&، دنبالش بگردیم.\n",
    "# در این قسمت با فراخوانی کلید \n",
    "# name\n",
    "# مقدار \n",
    "# Python بازگردانده میشود.\n",
    "print(lang[\"name\"])"
   ]
  },
  {
   "cell_type": "code",
   "execution_count": 43,
   "metadata": {},
   "outputs": [],
   "source": [
    "lang[\"info\"] = \"Awesome!\""
   ]
  },
  {
   "cell_type": "code",
   "execution_count": 44,
   "metadata": {},
   "outputs": [
    {
     "name": "stdout",
     "output_type": "stream",
     "text": [
      "{'name': 'Python', 'version': 3.11, 'author': 'Guido', 'info': 'Awesome!'}\n"
     ]
    }
   ],
   "source": [
    "print(lang)"
   ]
  },
  {
   "cell_type": "code",
   "execution_count": 45,
   "metadata": {},
   "outputs": [
    {
     "name": "stdout",
     "output_type": "stream",
     "text": [
      "{'name': 'Python', 'version': 3.11, 'author': 'Guido', 'info': 'Awesome!', 'text': 'Simple is better than complex'}\n"
     ]
    }
   ],
   "source": [
    "# برای افزدون آیتم جدید هم کافیست به این صورت عمل کنیم:\n",
    "lang[\"text\"] = \"Simple is better than complex\"\n",
    "\n",
    "# الان دوباره به دیکشنری یه نگاه بندازیم:\n",
    "print(lang)"
   ]
  },
  {
   "cell_type": "code",
   "execution_count": 46,
   "metadata": {},
   "outputs": [
    {
     "name": "stdout",
     "output_type": "stream",
     "text": [
      "Before Delete:  {'name': 'Python', 'version': 3.11, 'author': 'Guido', 'info': 'Awesome!', 'text': 'Simple is better than complex'}\n",
      "After Delete :  {'name': 'Python', 'version': 3.11, 'author': 'Guido', 'info': 'Awesome!'}\n"
     ]
    }
   ],
   "source": [
    "# برای حذف هم کافیه اسم کلید رو بدیم.\n",
    "# مثلا در اینجا با کلید\n",
    "# text\n",
    "# آن را از دیکشنری حذف میکنیم\n",
    "\n",
    "print(\"Before Delete: \", lang)\n",
    "\n",
    "del lang[\"text\"]\n",
    "\n",
    "\n",
    "# الان دوباره به دیکشنری یه نگاه بندازیم:\n",
    "print(\"After Delete : \", lang)"
   ]
  },
  {
   "cell_type": "code",
   "execution_count": 47,
   "metadata": {},
   "outputs": [
    {
     "name": "stdout",
     "output_type": "stream",
     "text": [
      "{'name': 'Python', 'version': 3.11, 'author': 'Guido', 'info': 'Awesome!', 'versions': [3.7, 2.7]}\n"
     ]
    }
   ],
   "source": [
    "lang[\"versions\"] = [3.7, 2.7]\n",
    "print(lang)\n",
    "\n",
    "# print(lang[\"info\"])\n",
    "\n",
    "# del lang[\"info\"]\n",
    "\n",
    "# print(lang)\n"
   ]
  },
  {
   "cell_type": "code",
   "execution_count": 48,
   "metadata": {},
   "outputs": [],
   "source": [
    "# کلید توی دیکشنری رو هر طور خواستیم میتوانیم نامگذاری کنیم \n",
    "# و حتما نیاز نیست از قوانین نامگذاری متغیر تبعیت کنه!\n",
    "\n",
    "lang[\"test name\"] = \"A\"\n",
    "lang[\"@name_Ok\"] = \"OK\"\n"
   ]
  },
  {
   "attachments": {},
   "cell_type": "markdown",
   "metadata": {},
   "source": [
    "### نکات تکمیلی\n",
    "\n",
    "- میتونین توی دیشکنری یا لیست یا توپل، هر نوع داده ای بریزین. مثلا توی لیست میتونین دیکشنری اضافه کنین و ...\n"
   ]
  }
 ],
 "metadata": {
  "kernelspec": {
   "display_name": "Python 3",
   "language": "python",
   "name": "python3"
  },
  "language_info": {
   "codemirror_mode": {
    "name": "ipython",
    "version": 3
   },
   "file_extension": ".py",
   "mimetype": "text/x-python",
   "name": "python",
   "nbconvert_exporter": "python",
   "pygments_lexer": "ipython3",
   "version": "3.11.0rc2"
  },
  "orig_nbformat": 4,
  "vscode": {
   "interpreter": {
    "hash": "ca3ed784184f1b3bb7c3539bfb45e71710cd27667424f92c2d5bb4df9c107c23"
   }
  }
 },
 "nbformat": 4,
 "nbformat_minor": 2
}
