{
 "cells": [
  {
   "attachments": {},
   "cell_type": "markdown",
   "metadata": {},
   "source": [
    "# تمرین\n",
    "\n",
    "issue: https://github.com/hasanisaeed/python-course/issues/7",
    "\n",
    "- عملیات های محاسباتی رو، روی سه متغیر زیر انجام بدین:\n",
    "\n",
    "    ```\n",
    "    x = 5\n",
    "    y = 10.\n",
    "    c = 1 + 2j\n",
    "    ```\n",
    "\n",
    "---\n",
    "\n",
    "- به نظرتون خروجی قطعه کد زیر چی میشه و چرا؟\n",
    "    \n",
    "    ```\n",
    "    name = \"Python\"\n",
    "    bool(name) # ???\n",
    "    ```\n",
    "\n",
    "---\n",
    "\n",
    "\n",
    "- تست کنین آیا میتونیم چند متغیر رو توی یه خط تعریف کنیم؟\n",
    "\n",
    "    ```\n",
    "    first_name, last_name = \"Ali\", \"Mohammadi\"\n",
    "\n",
    "    print(first_name)\n",
    "    print(last_name)\n",
    "    ```\n",
    "\n",
    "---\n",
    "\n",
    "این دیکشنری رو در نظر بگیرین:\n",
    "\n",
    "```\n",
    "    python = {\n",
    "        'author': 'Guido',\n",
    "        'current_version': 3.11\n",
    "    }\n",
    "```\n",
    "\n",
    "- به این دیکشنری، لیست زیر رو با کلید \n",
    "\n",
    "    `versions`\n",
    "\n",
    "    اضافه کنین و در خروجی دیکشنری رو پرینت بگیرین\n",
    "\n",
    "    ```my_list = [3.9, 3.10, 3.11]```\n",
    "\n"
   ]
  }
 ],
 "metadata": {
  "kernelspec": {
   "display_name": "Python 3",
   "language": "python",
   "name": "python3"
  },
  "language_info": {
   "codemirror_mode": {
    "name": "ipython",
    "version": 3
   },
   "file_extension": ".py",
   "mimetype": "text/x-python",
   "name": "python",
   "nbconvert_exporter": "python",
   "pygments_lexer": "ipython3",
   "version": "3.11.2"
  },
  "orig_nbformat": 4,
  "vscode": {
   "interpreter": {
    "hash": "1b1080c1582992e469580106124633d903706e9e2f0dbdb2479c5f75db0f5b53"
   }
  }
 },
 "nbformat": 4,
 "nbformat_minor": 2
}
