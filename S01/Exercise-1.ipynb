{
 "cells": [
  {
   "cell_type": "code",
   "execution_count": 4,
   "metadata": {},
   "outputs": [],
   "source": [
    "import math"
   ]
  },
  {
   "cell_type": "code",
   "execution_count": 12,
   "metadata": {},
   "outputs": [
    {
     "name": "stdout",
     "output_type": "stream",
     "text": [
      "<class 'complex'> (1+2j)\n",
      "100000 = W\n",
      " 7.0710678118654755 = R\n",
      " 30 = Q\n",
      " 0 = U\n",
      " (1-2j) = M\n",
      "\n"
     ]
    }
   ],
   "source": [
    "#Q1\n",
    "x = 5 \n",
    "y = 10 \n",
    "c = 1 + 2j\n",
    "w = y**x\n",
    "q = 2*(x+y)\n",
    "r = math.sqrt(50)\n",
    "u = q%y\n",
    "m = x / c\n",
    "print(type(c),c)\n",
    "print(w,\"= W\\n\",r,\"= R\\n\",q,\"= Q\\n\",u,\"= U\\n\",m,\"= M\\n\")"
   ]
  },
  {
   "cell_type": "code",
   "execution_count": 40,
   "metadata": {},
   "outputs": [
    {
     "name": "stdout",
     "output_type": "stream",
     "text": [
      "True True False False\n"
     ]
    }
   ],
   "source": [
    "#Q2\n",
    "test2 = False\n",
    "name  = \"Picture\"\n",
    "test1 = \"Python\"\n",
    "print(bool(name),\n",
    "    bool(test1),\n",
    "    bool(test2),\n",
    "    bool(0<-1)\n",
    "    )"
   ]
  },
  {
   "attachments": {},
   "cell_type": "markdown",
   "metadata": {},
   "source": [
    "خروجی بصورت ترو خواهد بود زیرا بولین همیشه مقدار درست برمیگرداند مگر این که عبارت به صورت منطقی نادرست باشه"
   ]
  },
  {
   "cell_type": "code",
   "execution_count": 43,
   "metadata": {},
   "outputs": [
    {
     "name": "stdout",
     "output_type": "stream",
     "text": [
      "My name is : Linda Mel\n"
     ]
    }
   ],
   "source": [
    "#Q3\n",
    "first_name , last_name = \"Linda\" ,\"Mel\"\n",
    "print(\"My name is :\",first_name,last_name)"
   ]
  },
  {
   "attachments": {},
   "cell_type": "markdown",
   "metadata": {},
   "source": [
    "بلی ،میتوان متغیر هارا به صورت سری تعریف کرد"
   ]
  },
  {
   "cell_type": "code",
   "execution_count": 46,
   "metadata": {},
   "outputs": [
    {
     "data": {
      "text/plain": [
       "{'author': 'Guido', 'current_version': 3.11, 'versions': [3.9, 3.1, 3.11]}"
      ]
     },
     "execution_count": 46,
     "metadata": {},
     "output_type": "execute_result"
    }
   ],
   "source": [
    "python = {\n",
    "    'author': 'Guido',\n",
    "    'current_version': 3.11\n",
    "}\n",
    "my_list = [3.9, 3.10, 3.11]\n",
    "python['versions'] = my_list\n",
    "python\n",
    "#simplest way"
   ]
  }
 ],
 "metadata": {
  "kernelspec": {
   "display_name": "Python 3",
   "language": "python",
   "name": "python3"
  },
  "language_info": {
   "codemirror_mode": {
    "name": "ipython",
    "version": 3
   },
   "file_extension": ".py",
   "mimetype": "text/x-python",
   "name": "python",
   "nbconvert_exporter": "python",
   "pygments_lexer": "ipython3",
   "version": "3.11.0"
  },
  "orig_nbformat": 4,
  "vscode": {
   "interpreter": {
    "hash": "f78983ab5ec45d6d8dbe900cc2a7c4efb4f6c159cb8c7d7d13ae57bc16d6e403"
   }
  }
 },
 "nbformat": 4,
 "nbformat_minor": 2
}
