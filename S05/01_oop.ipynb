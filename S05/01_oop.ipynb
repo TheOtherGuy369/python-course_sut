{
 "cells": [
  {
   "attachments": {},
   "cell_type": "markdown",
   "metadata": {},
   "source": [
    "این قسمت پایه ترین کلاس پایتون رو پیاده سازی میکنیم."
   ]
  },
  {
   "cell_type": "code",
   "execution_count": 15,
   "metadata": {},
   "outputs": [
    {
     "name": "stdout",
     "output_type": "stream",
     "text": [
      "Ali is taking the exam English\n",
      "41111118\n",
      "['Math', 'English']\n"
     ]
    }
   ],
   "source": [
    "class Student:\n",
    "    name = None\n",
    "    id_number = None\n",
    "    courses = []\n",
    "\n",
    "    # به توابع داخل کلاس ها متد میگیم.\n",
    "    def add_course(self, course):\n",
    "        self.courses.append(course)\n",
    "    \n",
    "    def retrieve_courses(self):\n",
    "        print(self.courses)\n",
    "\n",
    "\n",
    "    def take_exam(self, course ):\n",
    "        if course in self.courses:\n",
    "            print(self.name + \n",
    "                \" is taking the exam \" + \n",
    "                course)\n",
    "            print(self.id_number)\n",
    "        else:\n",
    "            print(f\"{self.name} is not enrolled in this {course}\")\n",
    "\n",
    "# اینجا یه نمونه یا instance از کلاس ساختیم. \n",
    "s1 = Student()\n",
    "s1.name = \"Ali\"\n",
    "s1.id_number = \"41111118\"\n",
    "s1.add_course(\"Math\")\n",
    "s1.add_course(\"English\")\n",
    "\n",
    "s1.take_exam(\"English\")\n",
    "s1.retrieve_courses()"
   ]
  },
  {
   "cell_type": "code",
   "execution_count": 19,
   "metadata": {},
   "outputs": [],
   "source": [
    "class Student:\n",
    "\n",
    "    # این تابع به عنوان initializer هست\n",
    "    def __init__(self, name, number):\n",
    "        self.name = name\n",
    "        self.id_number = number\n",
    "        self.courses = []\n",
    "\n",
    "\n",
    "    def add_course(self, course):\n",
    "        self.courses.append(course)\n",
    " \n",
    "    def take_exam(self, course ):\n",
    "        if course in self.courses:\n",
    "            print(self.name + \n",
    "                \" is taking the exam \" + \n",
    "                course)\n",
    "            print(self.id_number)\n",
    "        else:\n",
    "            print(f\"{self.name} is not enrolled in this {course}\")\n",
    "        "
   ]
  },
  {
   "cell_type": "code",
   "execution_count": 28,
   "metadata": {},
   "outputs": [
    {
     "name": "stdout",
     "output_type": "stream",
     "text": [
      "Ali is taking the exam Math\n",
      "4011111111\n"
     ]
    }
   ],
   "source": [
    "s = Student(\"Ali\", \"4011111111\")\n",
    "# s.name\n",
    "# s.id_number\n",
    "s.add_course(\"Math\")\n",
    "s.add_course(\"English\")\n",
    "s.take_exam(\"Math\")"
   ]
  },
  {
   "cell_type": "code",
   "execution_count": 27,
   "metadata": {},
   "outputs": [
    {
     "name": "stdout",
     "output_type": "stream",
     "text": [
      "Hoda is not enrolled in this Math\n"
     ]
    }
   ],
   "source": [
    "s2 = Student(\"Hoda\", \"9011111111\")\n",
    "s2.add_course(\"English\")\n",
    "s2.take_exam(\"Math\")"
   ]
  }
 ],
 "metadata": {
  "kernelspec": {
   "display_name": "Python 3",
   "language": "python",
   "name": "python3"
  },
  "language_info": {
   "codemirror_mode": {
    "name": "ipython",
    "version": 3
   },
   "file_extension": ".py",
   "mimetype": "text/x-python",
   "name": "python",
   "nbconvert_exporter": "python",
   "pygments_lexer": "ipython3",
   "version": "3.11.0"
  },
  "orig_nbformat": 4
 },
 "nbformat": 4,
 "nbformat_minor": 2
}
